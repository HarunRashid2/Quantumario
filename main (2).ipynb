{
 "cells": [
  {
   "cell_type": "code",
   "execution_count": 17,
   "id": "22d57a63-e937-4519-9728-6e2a66fec9b9",
   "metadata": {},
   "outputs": [],
   "source": [
    "import os\n",
    "\n",
    "from qiskit import BasicAer, execute\n",
    "from qiskit.circuit import QuantumRegister, ClassicalRegister, QuantumCircuit\n",
    "\n",
    "from quantuminspire.credentials import get_authentication\n",
    "from quantuminspire.qiskit import QI"
   ]
  },
  {
   "cell_type": "code",
   "execution_count": 29,
   "id": "6f61d3c3-ebc2-4c74-80b6-d196c93592af",
   "metadata": {},
   "outputs": [],
   "source": [
    "#QI + Backends\n",
    "\n",
    "QI_URL = os.getenv('42ca57206e553107fd2180b65ab21c3764c70e5a', 'https://api.quantum-inspire.com/')\n",
    "\n",
    "\n",
    "authentication = get_authentication()\n",
    "QI.set_authentication(authentication, QI_URL)\n",
    "qi_backend = QI.get_backend('Starmon-5') #Actual: Use Starmon-5; QX single-node simulator"
   ]
  },
  {
   "cell_type": "code",
   "execution_count": 3,
   "id": "a85ead05-8b43-4c7d-9d2d-cfb5cf27f1e0",
   "metadata": {},
   "outputs": [],
   "source": [
    "import random\n",
    "from random import getrandbits"
   ]
  },
  {
   "cell_type": "code",
   "execution_count": 19,
   "id": "4a370487-492e-4701-ad5d-948e9c3de3c6",
   "metadata": {},
   "outputs": [],
   "source": [
    "# ALICE + BOWSER_KEY + C_KEY\n",
    "\n",
    "global qkd\n",
    "def alice(length):\n",
    "    alice_bits = []\n",
    "    alice_bases = []\n",
    "    global Length\n",
    "    Length = length\n",
    "    \n",
    "    #BIT GENERATION\n",
    "    for i in range(length):\n",
    "        alice_bits.append(getrandbits(1))\n",
    "        \n",
    "        # 0 means encode in the Z basis and 1 means encode in the X,Y basis\n",
    "        alice_bases.append(getrandbits(1))\n",
    "    print(len(alice_bases))\n",
    "        \n",
    "\n",
    "    encoded_qubits = [] #an array of qc circuits with 1 qubit each\n",
    "    for i in range(length):\n",
    "        # create a brand new quantum circuit called qc\n",
    "        qc = QuantumCircuit(1,1)\n",
    "\n",
    "        if alice_bases[i] == 0:\n",
    "            # 0 Means we are encoding in the z basis\n",
    "            if alice_bits[i] == 0:\n",
    "                # We want to encode a |0> state, as states are intialized\n",
    "                # in |0> by default we don't need to add anything here\n",
    "                pass\n",
    "            \n",
    "            elif alice_bits[i] == 1:\n",
    "                # We want to encode a |1> state\n",
    "                # We apply an X gate to generate |1>\n",
    "                qc.x(0)\n",
    "                \n",
    "        elif alice_bases[i] == 1:\n",
    "            # 1 Means we are encoding in the x basis\n",
    "            if alice_bits[i] == 0:\n",
    "                # We apply an H gate to generate |+>\n",
    "                qc.h(0)\n",
    "            elif alice_bits[i] == 1:\n",
    "                # We apply an X and an H gate to generate |->\n",
    "                qc.x(0)\n",
    "                qc.h(0)\n",
    "            \n",
    "        # add this quantum circuit to the list of encoded_qubits\n",
    "        encoded_qubits.append(qc)\n",
    "        \n",
    "        global alice_bases_xz\n",
    "        alice_bases_xz = []\n",
    "        for i in range(length):\n",
    "            if(alice_bases[i] == 0):\n",
    "                alice_bases_xz.append(\"Z\")\n",
    "            else:\n",
    "                alice_bases_xz.append(\"X\")\n",
    "    return encoded_qubits\n",
    "\n",
    "def key(length, bob_bitstring, measure_bases):\n",
    "    #Converting Alice Bases from 0,1 to X, Z \n",
    "    c_KEY = []\n",
    "    for x in range(length):\n",
    "        if (alice_bases_xz[x] == measure_bases[x]):\n",
    "            c_KEY.append(bob_bitstring[x])\n",
    "            \n",
    "    return c_KEY\n",
    "\n",
    "def bowser_key(c_KEY): \n",
    "    x = []\n",
    "    if len(c_KEY) >=3:\n",
    "        #Replace 1 of Key values\n",
    "        for i in range(len(c_KEY)):\n",
    "            x.append(i)\n",
    "        y = random.randint(0,len(c_KEY)-1)\n",
    "        corrupted_key = c_KEY\n",
    "        if c_KEY[y] == '0':\n",
    "            corrupted_key[y] = '1'\n",
    "        else:\n",
    "            corrupted_key[y] = '0'\n",
    "        x.pop(y)\n",
    "        \n",
    "        #Replace second key value\n",
    "        y = random.randint(0,len(c_KEY)-1)\n",
    "        corrupted_key = c_KEY\n",
    "        if c_KEY[y] == '0':\n",
    "            corrupted_key[y] = '1'\n",
    "        else:\n",
    "            corrupted_key[y] = '0'\n",
    "        \n",
    "        return corrupted_key\n",
    "    \n",
    "    elif len(c_KEY)>1:\n",
    "        y = getrandbits(1)\n",
    "        corrupted_key = c_KEY\n",
    "        if c_KEY[y] == '0':\n",
    "            corrupted_key[y] = '1'\n",
    "        else:\n",
    "            corrupted_key[y] = '0'\n",
    "        \n",
    "        return corrupted_key\n",
    "    \n",
    "    elif len(c_KEY)==1:\n",
    "        corrupted_key = c_KEY\n",
    "        if c_KEY[0] == '0':\n",
    "            corrupted_key[0] = '1'\n",
    "        else:\n",
    "            corrupted_key[0] = '0'\n",
    "        \n",
    "        return corrupted_key\n",
    "        \n",
    "    \n",
    "    else:\n",
    "        while len(c_KEY) == 0:\n",
    "            enc_q = alice(length)\n",
    "            measure_bases = select_measurement()\n",
    "            x = b_measure(measure_bases, enc_q, qi_backend)\n",
    "            c_KEY = key(length, x, measure_bases)\n",
    "        "
   ]
  },
  {
   "cell_type": "code",
   "execution_count": 37,
   "id": "d8491100-eea5-41aa-8975-5ac229193937",
   "metadata": {},
   "outputs": [],
   "source": [
    "#note: when running function, code must be \"measure_bases = ''.join(select_measurement())\"\n",
    "#user inputted bases\n",
    "\n",
    "#select_measurement + b_measure + QKD + compromised_guess + LEVELS\n",
    "\n",
    "global measure_bases\n",
    "def select_measurement():\n",
    "    print(\"Choose 5 bases to measure in using 'Z' and 'X'.\\n Z represents the Z basis and X the X basis\")\n",
    "    #changes string input to an array\n",
    "    measure_bases = [c for c in input(\"Input your bases: \")] \n",
    "  #if there are not 5 bases\n",
    "    while len(measure_bases) != 5:\n",
    "        measure_bases = [c for c in input(\"you did not input 5 bases. Try again: \")]\n",
    "        #if bases are not Zs and Xs\n",
    "        for x in range(length):\n",
    "            while measure_bases[x] != 'Z' and measure_bases[x] != 'X':\n",
    "                measure_bases = [c for c in input(\"you did not input X or Z. Try again: \")]\n",
    "    return measure_bases\n",
    "\n",
    "\n",
    "def b_measure(measure_bases, encoded_qubits, backend):\n",
    "    # Perform measurement on the qubits send by Alice\n",
    "    # selected_measurements: \n",
    "    # encoded_qubits: list of QuantumCircuits received from Alice\n",
    "    # backend: IBMQ backend, either simulation or hardware\n",
    "    \n",
    "    # Stores the results of Bob's measurements\n",
    "    bob_bitstring = ''\n",
    "    #measure_bases = ''.join(measure_bases)\n",
    "    bob_mlist = []\n",
    "    for i in range(Length): #global Length variable = input number of qubits from user\n",
    "        qc = encoded_qubits[i]\n",
    "        \n",
    "        if measure_bases[i] == \"Z\":\n",
    "            #change string value to measurement basis\n",
    "            qc.measure(0,0) #CHANGED\n",
    "            pass\n",
    "\n",
    "        elif measure_bases[i] == \"X\":\n",
    "            # change X to measurement basis\n",
    "            qc.h(0)\n",
    "            qc.measure(0,0) #CHANGED\n",
    "            \n",
    "        job = execute(qc, backend=backend, shots = 1) # increase shots if running on hardware\n",
    "        results = job.result()\n",
    "        counts = results.get_counts()\n",
    "        #measured_bit = \n",
    "        measured_bit = max(counts, key=counts.get)\n",
    "        # print(measured_bit)\n",
    "\n",
    "        # Append measured bit to Bob's measured bitstring\n",
    "        bob_bitstring += measured_bit \n",
    "            \n",
    "        \n",
    "    return bob_bitstring\n",
    "\n",
    "def QKD(length):\n",
    "    bowser_involved = getrandbits(1) #random for whether or not Bowser has access to the quantum channel\n",
    "    \n",
    "    enc_q = alice(length)\n",
    "    measure_bases = select_measurement()\n",
    "    x = b_measure(measure_bases, enc_q, qi_backend)\n",
    "    c_KEY = key(length, x, measure_bases)\n",
    "        \n",
    "    if bowser_involved == 0:\n",
    "        corrupted_key = bowser_key(c_KEY)\n",
    "        channel_secure = True\n",
    "        return corrupted_key, c_KEY, channel_secure\n",
    "    \n",
    "    else:\n",
    "        channel_secure = False\n",
    "        corrupted_key = []\n",
    "        for i in range(len(c_KEY)):\n",
    "            corrupted_key.append(getrandbits(1))\n",
    "        return c_KEY, corrupted_key, channel_secure\n",
    "        \n",
    "    \n",
    "def compromised_guess(c_KEY, corrupted_key, channel_secure):\n",
    "    #c_KEY = the final key AFTER checking which gates don't match up and deleting the bits that don't match\n",
    "    #corrupted_key = the correct key that has been modified\n",
    "    \n",
    "    print(\"Here are Alice's bits: \" + str(c_KEY))\n",
    "    print(\"Here are your bits: \" + str(corrupted_key))\n",
    "    guess = input(\"Do you believe that the quantum channel has been compromised? Answer 'YES' or 'NO'\")\n",
    "    corrupted_key = []\n",
    "    channel_secure = False\n",
    "\n",
    "    if (guess == 'YES') or (guess == \"yes\") or (guess == \"Yes\"):\n",
    "        while (guess == 'YES'):\n",
    "            bowser_involved = getrandbits(1) #random for whether or not Bowser has access to the quantum channel\n",
    "            \n",
    "            print(\"Don't forget, it could also just be some Quantum Noise!\")\n",
    "            enc_q = alice(length)\n",
    "            measure_bases = select_measurement()\n",
    "            x = b_measure(measure_bases, enc_q, qi_backend)\n",
    "            c_KEY = key(length, x, measure_bases)\n",
    "\n",
    "            if bowser_involved == 0:\n",
    "                corrupted_key = bowser_key(c_KEY)\n",
    "                channel_secure = True\n",
    "\n",
    "            else:\n",
    "                corrupted_key = []\n",
    "                for i in range(len(c_KEY)):\n",
    "                    corrupted_key.append(getrandbits(1))\n",
    "                    \n",
    "            print(\"Here are Alice's bits: \" + str(c_KEY))\n",
    "            print(\"Here are your bits: \" + str(corrupted_key))\n",
    "            guess = input(\"Do you believe that the quantum channel has been compromised? Answer 'YES' or 'NO'\")\n",
    "        \n",
    "        \n",
    "    if (guess == 'NO') or (guess == \"No\") or (guess == \"no\"):\n",
    "        pass\n",
    "        \n",
    "    if channel_secure == True:\n",
    "        qkd = True\n",
    "    \n",
    "    else:\n",
    "        qkd = False\n",
    "\n",
    "    return qkd\n",
    "        \n",
    "def level_1(length, life):\n",
    "    c_KEY, corrupted_key, channel_secure = QKD(length)\n",
    "    qkd = compromised_guess(c_KEY, corrupted_key, channel_secure)\n",
    "    \n",
    "    life = q1lvl1(qkd, life)\n",
    "    life = q2lvl2(qkd, life)\n",
    "    #TRIVIA = = = (GET CODE!)\n",
    "\n",
    "def level_2(length, life):\n",
    "    c_KEY, corrupted_key, channel_secure = QKD(length)\n",
    "    qkd = compromised_guess(c_KEY, corrupted_key, channel_secure)\n",
    "    \n",
    "    #(GET CODE!)\n",
    "    life = q1lvl2(qkd, life)\n",
    "    life = q2lvl2(qkd, life)\n",
    "    \n",
    "def level_3(length):\n",
    "    c_KEY, corrupted_key, channel_secure = QKD(length)\n",
    "    qkd = compromised_guess(c_KEY, corrupted_key, channel_secure)\n",
    "    \n",
    "    #(GET CODE!)\n",
    "    life = q1lvl3(qkd, life)\n",
    "    \n",
    "    #INSERT FINAL BIG CHALLENGE TO DEFEAT BOWSER!"
   ]
  },
  {
   "cell_type": "code",
   "execution_count": null,
   "id": "3ca13057-0ace-40c0-a55f-0fe3640b3c8f",
   "metadata": {},
   "outputs": [],
   "source": [
    "#GAME QUESTIONS\n"
    def q1lvl1(qkd, life):
    print("A wild duck appears! It speaks with a deep voice: If you wish to pass and go to your princess, you need to answer the eight Guardian Ducks' questions, Quantumario!")
    time.sleep(3)
    print("Here is the first one: What does the no cloning theorem entail?!")
    time.sleep(2)
    print("a. It is impossible to create identical copies of an arbitrary unknown quantum state")
    time.sleep(1)
    print("b. It is possible to create identical copies of quantum states, as long as they aren’t measured")
    time.sleep(1)
    print("c. No clone can last for more than a minute ")
    time.sleep(1)
    print("d. It is possible to create identical copies of quantum states.")
    time.sleep(1)
    print("...")
    time.sleep(2)
    if qkd == True: #if you get the hint
        print("The princess says: 'It's in the name, duh!'")
    elif qkd == False: 
        print("The princess says: 'Cloning? Sounds like you should be able to create clones'") #bowser hint
    time.sleep(2)
    q1ans=input("What is your answer?")
    if q1ans == "a":
        print("Correct! The duck moves out of the way. You continue.")
        time.sleep(2)
        print("The path here is nice. Trees surround you, and the sun shines.")
    else:
        print("Wrong! You lose a life but you must keep moving...")
        return life - 1
        time.sleep(2)
        print("The duck disappears while you blink. You continue. The path here is nice. Trees surround you, and the sun shines.")
    time.sleep(1)
    print('...')
    os.system('cls' if os.name == 'nt' else 'clear')

def q2lvl1(qkd, life):
    time.sleep(4)
    print("The sun is suddenly blocked. A beautiful creature descends from the skies, flapping its wings. The duck speaks shrilly: Which one of these isn't a real QKD protocol?")
    time.sleep(1)
    print("a. BB84")
    time.sleep(1)
    print("b. T95")
    time.sleep(1)
    print("c. SSP99")
    time.sleep(1)
    print("d. SARG04")
    time.sleep(2)
    if qkd == True: #if you get the hint
        print("The princess says: 'I’ve heard of SARG04 before…'")
    elif qkd == False: 
        print("The princess says: 'I’ve heard of T95 before…'") #bowser hint
    time.sleep(2)
    q1ans=input("What is your answer?")
    if q1ans == "b":
        print("Correct! The duck gives way, and you continue.")
        time.sleep(2)
    else:
        print("Wrong! You lose a life but you must keep moving...")
        return life - 1
        time.sleep(2)
    print("The trees start to clear, hills take their place.")
    print("Another Toad stands at a quantum device ahead of you.")
    time.sleep(2)
    print("Hey Mario! You should create a new key, the old one doesn't work in the wastelands up ahead!") 
        
    #Another QKD challenge, needs code

    time.sleep(1)
    print('...')
    os.system('cls' if os.name == 'nt' else 'clear')
    
def q1lvl2(qkd, life):
    time.sleep(3)
    print("The ground shakes. A creature tall as a mountain towers before you. From up above, the beak moves and you hear its thunderous voice ask: Which one of these QKD protocols utilizes quantum entanglement?")
    time.sleep(1)
    print("a. SSP99")
    time.sleep(1)
    print("b. SARG04")
    time.sleep(1)
    print("c. Eckert's Protocol")
    time.sleep(1)
    print("d. B92")
    time.sleep(1)
    if qkd == True: #if you get the hint
        print("The princess says: 'Well that one has words at least…'")
    elif qkd == False: 
        print("The princess says: 'I have no idea'") #bowser hint
    time.sleep(2)
    q1ans=input("What is your answer?")
    if q1ans == "c":
        print("Correct! The huge duck takes flight, leaving way for you. You continue")
        time.sleep(2)
        print("
    else:
        print("Wrong! You lose a life but you must keep moving...")
        return life - 1
        time.sleep(2)
        print("The huge duck takes flight, leaving way for you. You continue") 
        time.sleep(2)
        print("The world switches around you. The green grass disappears, leaving way for a desolate wasteland.")
        time.sleep(2)
        
    time.sleep(1)
    print('...')
    os.system('cls' if os.name == 'nt' else 'clear')

def q2lvl2(qkd, life):
    time.sleep(4)
    print("A duck sized duck stops your way. The duck asks you: What is quantum teleportation?")
    time.sleep(1)
    print("a. Communicating using entangled states and a classical information channel")
    time.sleep(1)
    print("b. Being able to teleport to one of two places, not knowing which one of them you'll end up at.")
    time.sleep(1)
    print("c. Teleporting objects and states using a quantum computer")
    time.sleep(1)
    print("d. Communicating using classical bits.")
    time.sleep(1)
    if qkd == True: #if you get the hint
        print("The princess says: Classical bits has nothing to do with teleportation, right?")
    elif qkd == False: 
        print("The princess says: Wow, teleportation") #bowser hint
    time.sleep(2)
    q1ans=input("What is your answer?")
    if q1ans == "a":
        print("Correct! The duck moves to the side, and you continue through the wasteland.")
        time.sleep(2)
        print("After yet some time, you see another Toad, with yet another Quantum Computer.")
        time.sleep(2)
        print("Hey Mario. You need to redo the key once more before you arrive at the castle.") 
    else:
        print("Wrong! You lose a life but you must keep moving...")
        return life - 1
    time.sleep(1)
    print("The duck moves to the side, and you continue through the wasteland.")
    time.sleep(3)
    print("After yet some time, you see another Toad, with yet another Quantum Computer.")
    time.sleep(2)
    print("Hey Mario, the Toad says. You need to redo the key once more before you arrive at the castle.")  #Needs code again
    time.sleep(1)
    print('...')

def q1lvl3(qkd, life):
    time.sleep(3)
    print("A cold wind sends a chill through your spine. It carries a faint whisper, asking: What is a PNS attack?")
    time.sleep(2)
    print("a. Peripheral Nervous System attack, an attack on the nervous system.")
    time.sleep(1)
    print("b. Photons Number Splitter attack, where an eavesdropper can steal photons from a quantum channel.")
    time.sleep(1)
    print("c. Probably Not Something nice.")
    time.sleep(1)
    print("d. Premium Neutron Splitter attack, an attack with a neutron splitter which can distrupt a quantum channel")
    time.sleep(1)
    if qkd == True: #if you get the hint
        print("The princess says: Surely it's quantum related...")
    elif qkd == False: 
        print("The princess says: It's probably not something nice. ") #bowser hint
    time.sleep(2)
    q1ans=input("What is your answer?")
    if q1ans == "b":
        print("Correct! You continue")
    else:
        print("Wrong! You lose a life but you must keep moving...")
        return life - 1
    time.sleep(1)
    print('...')
    os.system('cls' if os.name == 'nt' else 'clear')
    
def q2vl3(qkd, life):
    time.sleep(3)
    print("A duck digs its way to the surface to greet you. It is a cyborg duck. It asks you in its robotic voice: How do you create entanglement in the simplest way possible?")
    time.sleep(2)
    print("a. With a Hadamard gate.")
    time.sleep(1)
    print("b. With a Pauli-X gate on the first qubit, and a Pauli-Z gate on the second.")
    time.sleep(1)
    print("c. With a Hadamard gate on the first qubit, then a CNOT with the first qubit as the control qubit and the second qubit as the target.")
    time.sleep(1)
    print("d. With a CNOT with the second qubit as the control qubit and the first as the target qubit.")
    time.sleep(1)
    if qkd == True: #if you get the hint
        print("The princess says: You need at least two qubits to create entanglement.")
    elif qkd == False: 
        print("The princess says: Wow, this is too advanced for me.") #bowser hint
    time.sleep(2)
    q1ans=input("What is your answer?")
    if q1ans == "c":
        print("Correct!") 
    else:
        print("Wrong! You lose a life but you must keep moving...")
        return life - 1
    time.sleep(1)
    print("You continue. A castle spire is visible far away.")
    time.sleep(1)
    print('...')
    os.system('cls' if os.name == 'nt' else 'clear')
              
              
#q1lvl4
              
def q1lvl4(qkd, life):
    time.sleep(3)
    print("A dark storm arises, carrying hail and wind. A faint outline of a winged creature is visible in front of you. It looks almost mythical. It let's out a screech and asks. 'What are pure quantum states?'")
    time.sleep(2)
    print("a. Quantum states formed after superposition")
    time.sleep(1)
    print("b. Vectors in a Euler space, associated with Laplace operator.")
    time.sleep(1)
    print("c.  Particles made in clean room.")
    time.sleep(1)
    print("d. Vectors in a Hilbert space, while each observable quantity is associated with a mathematical operator..")
    time.sleep(1)
    if qkd == True: #if you get the hint
        print("The princess says: vectors maybe?...")
    elif qkd == False: 
        print("The princess says: ..come on!!) #bowser hint
    time.sleep(2)
    q1ans=input("What is your answer?")
    if q1ans == "d":
        print("Correct!")
    else:
        print("Wrong! You lose a life but you must keep moving...")
        return life - 1
    time.sleep(2)
    print("You struggle on through the storm
    time.sleep(1)
    print('...')
    os.system('cls' if os.name == 'nt' else 'clear')             

#q2lvl4
def q2lvl4(qkd, life):
    time.sleep(3)
    print("You have finally reached the gate.")
    time.sleep(3)
    print("One last guradian awaits you.")
    time.sleep(3)
    print("A duck the size of small bird sits on the footsteps of the gate.")
    time.sleep(3)
    print("'You have done well so far Mario', says the duck. 'But there is still one more question left for you to answer. Now tell me: Which of these alternatives are a step in the process of Quantum Key Distribution?")
    time.sleep(2)
    print("a. The sender sends a photon through a polarizer with randomly assigned polarizations and bit assignment.")
    time.sleep(1)
    print("b. Photon uses a beam splitter that can be horizontal, vertical, or diagonal to decode or read the polarization of each photon.")
    time.sleep(1)
    print("c. Receiver tells the sender the random assignments of a beam splitter for each photon in the same sequence it was sent.")
    time.sleep(1)
    print("d. All of the above.")
    time.sleep(1)
    if qkd == True: #if you get the hint
        print("The princess says: 'I'm pretty sure that I've heard of option a before...")
    elif qkd == False: 
        print("The princess says: I have no clue!") #bowser hint
    time.sleep(2)
    q1ans=input("What is your answer?")
    if q1ans == "d":
        print("Correct!")
    else:
        print("Wrong! You lose a life but you must keep moving...")
        return life - 1
    time.sleep(2)
    print("You enter the castle, and brace yourself for one final challenge")
    time.sleep(1)
    print('...')
    os.system('cls' if os.name == 'nt' else 'clear')
   ]
  },
  {
   "cell_type": "code",
   "execution_count": 38,
   "id": "afe65b19-723b-47e7-bbb2-b464408ec9d4",
   "metadata": {},
   "outputs": [
    {
     "name": "stdin",
     "output_type": "stream",
     "text": [
      "Do you want to play QuantuMario? Answer 'YES' or 'NO'  YES\n"
     ]
    },
    {
     "name": "stdout",
     "output_type": "stream",
     "text": [
      "5\n",
      "Choose 5 bases to measure in using 'Z' and 'X'.\n",
      " Z represents the Z basis and X the X basis\n"
     ]
    },
    {
     "name": "stdin",
     "output_type": "stream",
     "text": [
      "Input your bases:  XXXXX\n"
     ]
    },
    {
     "name": "stdout",
     "output_type": "stream",
     "text": [
      "Here are Alice's bits: ['0', '1']\n",
      "Here are your bits: ['0', '1']\n"
     ]
    },
    {
     "name": "stdin",
     "output_type": "stream",
     "text": [
      "Do you believe that the quantum channel has been compromised? Answer 'YES' or 'NO' NO\n"
     ]
    },
    {
     "ename": "NameError",
     "evalue": "name 'q1lvl1' is not defined",
     "output_type": "error",
     "traceback": [
      "\u001b[0;31m---------------------------------------------------------------------------\u001b[0m",
      "\u001b[0;31mNameError\u001b[0m                                 Traceback (most recent call last)",
      "Input \u001b[0;32mIn [38]\u001b[0m, in \u001b[0;36m<module>\u001b[0;34m\u001b[0m\n\u001b[1;32m      8\u001b[0m \u001b[38;5;28;01mglobal\u001b[39;00m life\n\u001b[1;32m      9\u001b[0m life \u001b[38;5;241m=\u001b[39m \u001b[38;5;241m3\u001b[39m\n\u001b[0;32m---> 10\u001b[0m \u001b[43mlevel_1\u001b[49m\u001b[43m(\u001b[49m\u001b[43mlength\u001b[49m\u001b[43m,\u001b[49m\u001b[43m \u001b[49m\u001b[43mlife\u001b[49m\u001b[43m)\u001b[49m \u001b[38;5;66;03m#takes care of trivia as well\u001b[39;00m\n\u001b[1;32m     11\u001b[0m \u001b[38;5;28mprint\u001b[39m(\u001b[38;5;124m\"\u001b[39m\u001b[38;5;124mCongratulations on passing Level 1! Now onto level 2, lets find out what mischief Bowser has been up to\u001b[39m\u001b[38;5;124m\"\u001b[39m)\n\u001b[1;32m     12\u001b[0m level_2(length, life)\n",
      "Input \u001b[0;32mIn [37]\u001b[0m, in \u001b[0;36mlevel_1\u001b[0;34m(length, life)\u001b[0m\n\u001b[1;32m    124\u001b[0m c_KEY, corrupted_key, channel_secure \u001b[38;5;241m=\u001b[39m QKD(length)\n\u001b[1;32m    125\u001b[0m qkd \u001b[38;5;241m=\u001b[39m compromised_guess(c_KEY, corrupted_key, channel_secure)\n\u001b[0;32m--> 127\u001b[0m life \u001b[38;5;241m=\u001b[39m \u001b[43mq1lvl1\u001b[49m(qkd, life)\n\u001b[1;32m    128\u001b[0m life \u001b[38;5;241m=\u001b[39m q2lvl2(qkd, life)\n",
      "\u001b[0;31mNameError\u001b[0m: name 'q1lvl1' is not defined"
     ]
    }
   ],
   "source": [
    "#GAME_STARTS!!!\n",
    "game_starts = input(\"Do you want to play QuantuMario? Answer 'YES' or 'NO' \")\n",
    "global win\n",
    "if (game_starts == \"YES\") or (game_starts == \"yes\") or (game_starts == \"Yes\"):\n",
    "    #insert on_start() aka Exposition (GET CODE!)\n",
    "    #Second Exposition = instructions (GET CODE!)\n",
    "    length = 5\n",
    "    global life\n",
    "    life = 3\n",
    "    level_1(length, life) #takes care of trivia as well\n",
    "    print(\"Congratulations on passing Level 1! Now onto level 2, lets find out what mischief Bowser has been up to\")\n",
    "    level_2(length, life)\n",
    "    print(\"Congratulations on passing Level 2! Now onto level 3, lets find out what mischief Bowser has been up to\")\n",
    "    level_3(length, life)\n",
    "    print(\"Congratulations on passing Level 3! Now onto the Final Quantum Challenge, looks like Bowser learned the secrets of quantum mischief!\")\n",
    "    if win == True:\n",
    "        print(\"CONGRATULATIONS\")\n",
    "        time.sleep(2)\n",
    "        print(\"You've braved the Guardian Ducks' Quantum Challenges\")\n",
    "        time.sleep(1)\n",
    "        print('defeated Bowser') \n",
    "        time.sleep(1)\n",
    "        print(\"and saved the Princess!!!\")\n",
    "        exit()\n",
    "    \n",
    "    else:\n",
    "        print(\"Sad to see another great hero lose. . .Bowser lives on. . .\")\n",
    "\n",
    "else:\n",
    "    print(\"Sorry to hear that!\")\n",
    "    pass\n",
    "    "
   ]
  },
  {
   "cell_type": "code",
   "execution_count": null,
   "id": "fe0e50be-1975-46ce-a834-25f572a94ee7",
   "metadata": {},
   "outputs": [],
   "source": [
    "###### UPDATED JAN 30 12:23 AM"
   ]
  },
  {
   "cell_type": "code",
   "execution_count": null,
   "id": "e4ab7545-e5b9-4e86-acab-ca25f1408aae",
   "metadata": {},
   "outputs": [],
   "source": []
  },
  {
   "cell_type": "code",
   "execution_count": null,
   "id": "2f076301-cbf1-4af0-81c9-1f20d13f13d2",
   "metadata": {},
   "outputs": [],
   "source": []
  },
  {
   "cell_type": "code",
   "execution_count": null,
   "id": "05fcad84-26be-489a-b176-1d78b05ffdd0",
   "metadata": {},
   "outputs": [],
   "source": []
  }
 ],
 "metadata": {
  "kernelspec": {
   "display_name": "Python 3 [QI-SDK]",
   "language": "python",
   "name": "python3_qutech_qi_6jdv1w"
  },
  "language_info": {
   "codemirror_mode": {
    "name": "ipython",
    "version": 3
   },
   "file_extension": ".py",
   "mimetype": "text/x-python",
   "name": "python",
   "nbconvert_exporter": "python",
   "pygments_lexer": "ipython3",
   "version": "3.9.7"
  }
 },
 "nbformat": 4,
 "nbformat_minor": 5
}
